{
 "cells": [
  {
   "cell_type": "code",
   "execution_count": 1,
   "id": "1424439a",
   "metadata": {},
   "outputs": [],
   "source": [
    "import torch.nn as nn"
   ]
  },
  {
   "cell_type": "code",
   "execution_count": 2,
   "id": "d30b9f25",
   "metadata": {},
   "outputs": [
    {
     "name": "stderr",
     "output_type": "stream",
     "text": [
      "/home/jetal123/workdir/git_repo/breast_cancer_detection/.venv/lib/python3.10/site-packages/tqdm/auto.py:21: TqdmWarning: IProgress not found. Please update jupyter and ipywidgets. See https://ipywidgets.readthedocs.io/en/stable/user_install.html\n",
      "  from .autonotebook import tqdm as notebook_tqdm\n"
     ]
    }
   ],
   "source": [
    "import os\n",
    "import shutil\n",
    "\n",
    "import kagglehub"
   ]
  },
  {
   "cell_type": "code",
   "execution_count": 3,
   "id": "ac525f45",
   "metadata": {},
   "outputs": [
    {
     "data": {
      "text/plain": [
       "'breast_cancer_data'"
      ]
     },
     "execution_count": 3,
     "metadata": {},
     "output_type": "execute_result"
    }
   ],
   "source": [
    "local_path_dir = kagglehub.dataset_download(\"hayder17/breast-cancer-detection\")\n",
    "\n",
    "# create new folder to copy files from 'local_path_dir'\n",
    "new_folder = \"breast_cancer_data\"\n",
    "\n",
    "if not os.path.exists(f'{new_folder}'):\n",
    "    os.makedirs(f'{new_folder}')\n",
    "\n",
    "# copying all the files from 'local_path_dir'\n",
    "shutil.copytree(local_path_dir, new_folder, dirs_exist_ok=True)"
   ]
  },
  {
   "cell_type": "code",
   "execution_count": null,
   "id": "835821e7",
   "metadata": {},
   "outputs": [],
   "source": []
  },
  {
   "cell_type": "code",
   "execution_count": null,
   "id": "60723440",
   "metadata": {},
   "outputs": [],
   "source": [
    "model_config= {\n",
    "    'input_channels': 3,\n",
    "    'num_classes': 2,\n",
    "    'conv_layers': [\n",
    "        {'out_channels': 16, 'kernel_size': 3, 'padding': 1},\n",
    "        {'out_channels': 32, 'kernel_size': 3, 'padding': 1},\n",
    "        {'out_channels': 64, 'kernel_size': 3, 'padding': 1}\n",
    "    ],\n",
    "    'fc_layers': [\n",
    "        {'out_features': 256, 'dropout_prob': 0.5},\n",
    "        {'out_features': 128, 'dropout_prob': 0.5}\n",
    "    ]\n",
    "}"
   ]
  }
 ],
 "metadata": {
  "kernelspec": {
   "display_name": ".venv",
   "language": "python",
   "name": "python3"
  },
  "language_info": {
   "codemirror_mode": {
    "name": "ipython",
    "version": 3
   },
   "file_extension": ".py",
   "mimetype": "text/x-python",
   "name": "python",
   "nbconvert_exporter": "python",
   "pygments_lexer": "ipython3",
   "version": "3.10.12"
  }
 },
 "nbformat": 4,
 "nbformat_minor": 5
}
